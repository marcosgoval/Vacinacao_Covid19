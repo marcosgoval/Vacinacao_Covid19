{
 "cells": [
  {
   "cell_type": "markdown",
   "metadata": {},
   "source": [
    "Desafio 1"
   ]
  },
  {
   "cell_type": "markdown",
   "metadata": {},
   "source": [
    "copiar o arquivo para o container\n",
    "docker cp arquivos/ namenode:/\n",
    "conferir pelo docker\n",
    "docker exec -it namenode ls /arquivos"
   ]
  },
  {
   "cell_type": "code",
   "execution_count": 105,
   "metadata": {},
   "outputs": [],
   "source": [
    "#criar pasta HDFS de forma recursiva\n",
    "!hdfs dfs -mkdir -p /user/marcos/data/covid"
   ]
  },
  {
   "cell_type": "code",
   "execution_count": 106,
   "metadata": {},
   "outputs": [
    {
     "name": "stdout",
     "output_type": "stream",
     "text": [
      "put: `/arquivos/*.*': No such file or directory\r\n"
     ]
    }
   ],
   "source": [
    "#copiar arquivos para o HDFS (rodar no namenode)\n",
    "!hdfs dfs -put /arquivos/*.* /user/marcos/data/covid/"
   ]
  },
  {
   "cell_type": "code",
   "execution_count": 107,
   "metadata": {},
   "outputs": [
    {
     "name": "stdout",
     "output_type": "stream",
     "text": [
      "Found 5 items\r\n",
      "-rw-r--r--   3 root supergroup   62499490 2022-04-23 13:07 /user/marcos/data/covid/HIST_PAINEL_COVIDBR_2020_Parte1_22abr2022.csv\r\n",
      "-rw-r--r--   3 root supergroup   76521429 2022-04-23 13:07 /user/marcos/data/covid/HIST_PAINEL_COVIDBR_2020_Parte2_22abr2022.csv\r\n",
      "-rw-r--r--   3 root supergroup   91134722 2022-04-23 13:07 /user/marcos/data/covid/HIST_PAINEL_COVIDBR_2021_Parte1_22abr2022.csv\r\n",
      "-rw-r--r--   3 root supergroup   93415943 2022-04-23 13:07 /user/marcos/data/covid/HIST_PAINEL_COVIDBR_2021_Parte2_22abr2022.csv\r\n",
      "-rw-r--r--   3 root supergroup   56680450 2022-04-23 13:07 /user/marcos/data/covid/HIST_PAINEL_COVIDBR_2022_Parte1_22abr2022.csv\r\n"
     ]
    }
   ],
   "source": [
    "#listar pasta\n",
    "!hdfs dfs -ls /user/marcos/data/covid"
   ]
  },
  {
   "cell_type": "code",
   "execution_count": 108,
   "metadata": {},
   "outputs": [
    {
     "name": "stdout",
     "output_type": "stream",
     "text": [
      "Found 5 items\r\n",
      "-rwxrwxr-x   3 root supergroup   62499490 2022-04-23 12:59 /user/hive/warehouse/covid.db/covid/HIST_PAINEL_COVIDBR_2020_Parte1_22abr2022.csv\r\n",
      "-rwxrwxr-x   3 root supergroup   76521429 2022-04-23 12:59 /user/hive/warehouse/covid.db/covid/HIST_PAINEL_COVIDBR_2020_Parte2_22abr2022.csv\r\n",
      "-rwxrwxr-x   3 root supergroup   91134722 2022-04-23 12:59 /user/hive/warehouse/covid.db/covid/HIST_PAINEL_COVIDBR_2021_Parte1_22abr2022.csv\r\n",
      "-rwxrwxr-x   3 root supergroup   93415943 2022-04-23 12:59 /user/hive/warehouse/covid.db/covid/HIST_PAINEL_COVIDBR_2021_Parte2_22abr2022.csv\r\n",
      "-rwxrwxr-x   3 root supergroup   56680450 2022-04-23 12:59 /user/hive/warehouse/covid.db/covid/HIST_PAINEL_COVIDBR_2022_Parte1_22abr2022.csv\r\n"
     ]
    }
   ],
   "source": [
    "!hdfs dfs -ls  /user/hive/warehouse/covid.db/covid"
   ]
  },
  {
   "cell_type": "code",
   "execution_count": 2,
   "metadata": {},
   "outputs": [],
   "source": [
    "from pyspark.sql.functions import *\n",
    "from pyspark.sql.types import IntegerType"
   ]
  },
  {
   "cell_type": "code",
   "execution_count": 3,
   "metadata": {},
   "outputs": [],
   "source": [
    "#Leitura de arquivos\n",
    "dados = spark.read.csv(\"/user/marcos/data/covid\",sep=\";\",header=\"true\")"
   ]
  },
  {
   "cell_type": "code",
   "execution_count": 4,
   "metadata": {},
   "outputs": [
    {
     "data": {
      "text/plain": [
       "4254754"
      ]
     },
     "execution_count": 4,
     "metadata": {},
     "output_type": "execute_result"
    }
   ],
   "source": [
    "dados.count()\n",
    "#dados.select(dados.columns[1:3]).show()"
   ]
  },
  {
   "cell_type": "code",
   "execution_count": 5,
   "metadata": {},
   "outputs": [],
   "source": [
    "#cast de dados\n",
    "cast_int = dados.withColumn(\"recuperadosnovos\",dados[\"recuperadosnovos\"].cast('int'))\\\n",
    ".withColumn(\"emacompanhamentonovos\",dados[\"emacompanhamentonovos\"].cast('int'))\\\n",
    ".withColumn(\"casosacumulado\",dados[\"casosacumulado\"].cast('bigint'))\\\n",
    ".withColumn(\"obitosnovos\",dados[\"obitosnovos\"].cast('bigint'))\\\n",
    ".withColumn(\"casosnovos\",dados[\"casosnovos\"].cast('int'))\\\n",
    ".withColumn(\"populacaotcu2019\",dados[\"populacaotcu2019\"].cast('int'))\n",
    "\n"
   ]
  },
  {
   "cell_type": "code",
   "execution_count": 6,
   "metadata": {},
   "outputs": [],
   "source": [
    "#Filtro apenas ultima data\n",
    "ultimo_dia =  cast_int.filter('data = \"2022-04-22\"').filter('regiao = \"Brasil\"')"
   ]
  },
  {
   "cell_type": "code",
   "execution_count": 235,
   "metadata": {},
   "outputs": [],
   "source": [
    "#jeito mais trabalhoso pois nao tem função max nativa\n",
    "#visualizacao.agg(sum(\"recuperadosnovos\").alias('Casos recuperados'),sum(\"emacompanhamentonovos\").alias(\"Em acompanhamento\")).show()"
   ]
  },
  {
   "cell_type": "code",
   "execution_count": 7,
   "metadata": {},
   "outputs": [
    {
     "name": "stdout",
     "output_type": "stream",
     "text": [
      "+-----------------+-----------------+\n",
      "|casos_recuperados|em_acompanhamento|\n",
      "+-----------------+-----------------+\n",
      "|         29352832|           323308|\n",
      "+-----------------+-----------------+\n",
      "\n"
     ]
    }
   ],
   "source": [
    "#Resp 1\n",
    "visualizacao1 = ultimo_dia.groupBy().agg(max(\"recuperadosnovos\").alias('casos_recuperados'),max(\"emacompanhamentonovos\").alias(\"em_acompanhamento\"))\n",
    "\n",
    "visualizacao1.show()\n",
    "#(\"casosacumulado\",col('casosacumulado') * 1000000 / col('populacaotcu2019'))..cast('int')"
   ]
  },
  {
   "cell_type": "code",
   "execution_count": null,
   "metadata": {},
   "outputs": [],
   "source": [
    "visualizacao1.write.saveAsTable(\"visualizacao1\")"
   ]
  },
  {
   "cell_type": "code",
   "execution_count": 8,
   "metadata": {},
   "outputs": [
    {
     "name": "stdout",
     "output_type": "stream",
     "text": [
      "+--------------+----------+-----------------+\n",
      "|casosacumulado|casosnovos|       incidencia|\n",
      "+--------------+----------+-----------------+\n",
      "|      30338697|      8068|144368.8415913375|\n",
      "+--------------+----------+-----------------+\n",
      "\n"
     ]
    }
   ],
   "source": [
    "visualizacao2 = ultimo_dia.withColumn(\"incidencia\",col('casosacumulado')*1000000 / col('populacaotcu2019')).select('casosacumulado','casosnovos','incidencia')\n",
    "visualizacao2.show()"
   ]
  },
  {
   "cell_type": "code",
   "execution_count": null,
   "metadata": {},
   "outputs": [],
   "source": [
    "visualizacao2.write.parquet(\"visualizacao2.parquet\")"
   ]
  },
  {
   "cell_type": "code",
   "execution_count": 9,
   "metadata": {},
   "outputs": [
    {
     "name": "stdout",
     "output_type": "stream",
     "text": [
      "+---------------+-----------+--------------------+-----------------+\n",
      "|obitosacumulado|obitosnovos|          letalidade|      mortalidade|\n",
      "+---------------+-----------+--------------------+-----------------+\n",
      "|         662557|         51|2.010111606822899...|3152.824479516434|\n",
      "+---------------+-----------+--------------------+-----------------+\n",
      "\n"
     ]
    }
   ],
   "source": [
    "visualizacao3 = ultimo_dia.withColumn(\"letalidade\",col('obitosacumulado')/100 * col('casosacumulado'))\\\n",
    ".withColumn(\"mortalidade\",(col('obitosacumulado')* 1000000) / col('populacaotcu2019'))\\\n",
    ".select('obitosacumulado','obitosnovos','letalidade','mortalidade')\n",
    "visualizacao3.show()"
   ]
  },
  {
   "cell_type": "code",
   "execution_count": 44,
   "metadata": {},
   "outputs": [
    {
     "data": {
      "text/plain": [
       "pyspark.sql.dataframe.DataFrame"
      ]
     },
     "execution_count": 44,
     "metadata": {},
     "output_type": "execute_result"
    }
   ],
   "source": [
    "type(visualizacao3)"
   ]
  },
  {
   "cell_type": "code",
   "execution_count": 68,
   "metadata": {},
   "outputs": [],
   "source": [
    "from pyspark.sql.functions import *"
   ]
  },
  {
   "cell_type": "code",
   "execution_count": 75,
   "metadata": {},
   "outputs": [],
   "source": [
    "#estruturar\n",
    "visualizacao3_kafka = visualizacao3.select(to_json(struct('obitosacumulado','obitosnovos','letalidade','mortalidade')).alias(\"value\"))\n"
   ]
  },
  {
   "cell_type": "code",
   "execution_count": 77,
   "metadata": {},
   "outputs": [],
   "source": [
    "#Salvar no tópico kafka\n",
    "visualizacao3_kafka_output = visualizacao3_kafka.write\\\n",
    ".format(\"kafka\")\\\n",
    ".option(\"kafka.bootstrap.servers\",\"kafka:9092\")\\\n",
    ".option(\"topic\",\"topic-kvspark\")\\\n",
    ".save()"
   ]
  },
  {
   "cell_type": "code",
   "execution_count": 78,
   "metadata": {},
   "outputs": [
    {
     "name": "stdout",
     "output_type": "stream",
     "text": [
      "+------+-------------------+\n",
      "|regiao|sum(casosacumulado)|\n",
      "+------+-------------------+\n",
      "|Brasil|           30338697|\n",
      "+------+-------------------+\n",
      "\n"
     ]
    }
   ],
   "source": [
    "ultimo_dia.groupBy(\"regiao\").sum(\"casosacumulado\").show()"
   ]
  },
  {
   "cell_type": "code",
   "execution_count": 107,
   "metadata": {},
   "outputs": [],
   "source": [
    "#Filtro apenas ultima data regiões\n",
    "ultimo_dia_regioes =  cast_int.filter('data = \"2022-04-22\"')\n",
    "#.filter('estado = \"DF\"')\n",
    "#ultimo_dia_regioes.show()"
   ]
  },
  {
   "cell_type": "code",
   "execution_count": 108,
   "metadata": {},
   "outputs": [
    {
     "name": "stdout",
     "output_type": "stream",
     "text": [
      "+--------+------+---------------------+------------------+-----------+\n",
      "|   casos| obtos|Incidência_100mil_hab|       mortalidade|atualizacao|\n",
      "+--------+------+---------------------+------------------+-----------+\n",
      "|30338697|662557|    144368.8415913375| 3152.824479516434| 2022-04-22|\n",
      "|  400317|  7197|   225248.35065903305|4049.5716636891784| 2022-04-22|\n",
      "|  124633|  1998|    141317.6708034039|2265.4730790817916| 2022-04-22|\n",
      "|  581934| 14169|    140407.8611261843|3418.6677257161555| 2022-04-22|\n",
      "|  155391|  2147|   256521.96163173264|3544.3021257558676| 2022-04-22|\n",
      "|  762630| 18215|    88648.37469842895|2117.3178935157066| 2022-04-22|\n",
      "|  160375|  2130|    189628.8536189403|2518.5313060535796| 2022-04-22|\n",
      "|  304206|  4149|   193408.72013254784|2637.8598049674924| 2022-04-22|\n",
      "|  430626| 10879|    60864.30863040818|1537.6285073130991| 2022-04-22|\n",
      "|  368022|  7735|   112433.99861971076|2363.1113882416344| 2022-04-22|\n",
      "| 1243770| 26867|   136197.91683776682| 2942.046706127565| 2022-04-22|\n",
      "|  502618|  8168|   143324.51345978858| 2329.153802568856| 2022-04-22|\n",
      "|  601296| 10201|   149645.84245346152| 2538.745042155213| 2022-04-22|\n",
      "|  918045| 21566|    96059.24241851924|2256.5491037996894| 2022-04-22|\n",
      "|  297546|  6921|    89156.17957563425| 2073.796719979313| 2022-04-22|\n",
      "|  326989|  6342|   142249.77987519882| 2758.955512168638| 2022-04-22|\n",
      "| 1540547| 29831|   103579.66589802882|2005.7064233704637| 2022-04-22|\n",
      "| 3352544| 61216|   158372.01094762568|2891.8042603377776| 2022-04-22|\n",
      "| 1045921| 14391|   260266.75624898908| 3581.053338807809| 2022-04-22|\n",
      "| 2131863| 73207|    123479.2955875962|4240.2109291643765| 2022-04-22|\n",
      "+--------+------+---------------------+------------------+-----------+\n",
      "only showing top 20 rows\n",
      "\n"
     ]
    }
   ],
   "source": [
    "grafico7 = ultimo_dia_regioes.withColumn(\"incidencia\",col('casosacumulado')*1000000 / col('populacaotcu2019'))\\\n",
    ".withColumn(\"mortalidade\",(col('obitosacumulado')* 1000000) / col('populacaotcu2019'))\\\n",
    ".select(col('casosacumulado').alias('casos'),col('obitosacumulado').alias('obtos'),col('incidencia').alias('Incidência_100mil_hab'),'mortalidade',col('data').alias(\"atualizacao\")).show()\n"
   ]
  },
  {
   "cell_type": "code",
   "execution_count": null,
   "metadata": {},
   "outputs": [],
   "source": []
  }
 ],
 "metadata": {
  "kernelspec": {
   "display_name": "PySpark",
   "language": "python",
   "name": "pyspark"
  },
  "language_info": {
   "codemirror_mode": {
    "name": "ipython",
    "version": 3
   },
   "file_extension": ".py",
   "mimetype": "text/x-python",
   "name": "python",
   "nbconvert_exporter": "python",
   "pygments_lexer": "ipython3",
   "version": "3.6.10"
  }
 },
 "nbformat": 4,
 "nbformat_minor": 2
}
